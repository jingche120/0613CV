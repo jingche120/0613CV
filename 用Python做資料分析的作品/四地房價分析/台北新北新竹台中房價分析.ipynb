{
 "cells": [
  {
   "cell_type": "markdown",
   "id": "b1bd3a0f-e4aa-4a60-a7e0-04ef506f67e8",
   "metadata": {},
   "source": [
    "# 情境:\n",
    "### 1.住宿用\n",
    "### 2.交易年月日，限制在113年4月"
   ]
  },
  {
   "cell_type": "code",
   "execution_count": 1,
   "id": "f7d6e044-4487-4612-8b7e-f54f713d9c1a",
   "metadata": {},
   "outputs": [],
   "source": [
    "import pandas as pd"
   ]
  },
  {
   "cell_type": "code",
   "execution_count": 2,
   "id": "447a3783-6e37-47a5-b176-c5125788d167",
   "metadata": {},
   "outputs": [],
   "source": [
    "data_taipei = pd.read_csv(\"Taipei.csv\")\n",
    "data_newtaipei = pd.read_csv(\"NewTaipei.csv\")\n",
    "data_hsinchu = pd.read_csv(\"Hsinchu.csv\")\n",
    "data_taichung = pd.read_csv(\"Taichung.csv\")"
   ]
  },
  {
   "cell_type": "markdown",
   "id": "56cb702d-852f-430e-a9f0-bf4c991251b5",
   "metadata": {},
   "source": [
    "我的建議是用 column name 取資料的時候用 loc，用 index 取資料的時候用 iloc"
   ]
  },
  {
   "cell_type": "code",
   "execution_count": 3,
   "id": "d4ccfe41-ba10-41c7-93ad-0fd42804e9b8",
   "metadata": {},
   "outputs": [],
   "source": [
    "# 把ROW2刪掉，因為只是欄位的英文名\n",
    "data_taipei = data_taipei.iloc[1:]\n",
    "data_newtaipei  = data_newtaipei .iloc[1:]\n",
    "data_hsinchu = data_hsinchu.iloc[1:]\n",
    "data_taichung = data_taichung.iloc[1:]\n"
   ]
  },
  {
   "cell_type": "code",
   "execution_count": 4,
   "id": "5eb00a13-79c8-41b9-88df-2d08d3c6fd63",
   "metadata": {},
   "outputs": [
    {
     "name": "stdout",
     "output_type": "stream",
     "text": [
      "Index(['鄉鎮市區', '交易標的', '土地位置建物門牌', '土地移轉總面積平方公尺', '都市土地使用分區', '非都市土地使用分區',\n",
      "       '非都市土地使用編定', '交易年月日', '交易筆棟數', '移轉層次', '總樓層數', '建物型態', '主要用途', '主要建材',\n",
      "       '建築完成年月', '建物移轉總面積平方公尺', '建物現況格局-房', '建物現況格局-廳', '建物現況格局-衛',\n",
      "       '建物現況格局-隔間', '有無管理組織', '總價元', '單價元平方公尺', '車位類別', '車位移轉總面積平方公尺', '車位總價元',\n",
      "       '備註', '編號', '主建物面積', '附屬建物面積', '陽台面積', '電梯', '移轉編號'],\n",
      "      dtype='object')\n"
     ]
    }
   ],
   "source": [
    "print(data_taichung.columns)"
   ]
  },
  {
   "cell_type": "markdown",
   "id": "3230f55b-f8a1-46ea-bb99-25921adb726b",
   "metadata": {},
   "source": [
    "## 符合條件的資料"
   ]
  },
  {
   "cell_type": "markdown",
   "id": "abfa5a8f-0527-4760-abeb-3b75f0c5fad3",
   "metadata": {},
   "source": [
    "### 台北"
   ]
  },
  {
   "cell_type": "code",
   "execution_count": 5,
   "id": "5d7b2194-2d97-4903-aada-fe3b1bf31611",
   "metadata": {},
   "outputs": [],
   "source": [
    "data_taipei['交易年月日'] = data_taipei['交易年月日'].astype('int') \n",
    "data_taipei['交易年月日'] = data_taipei['交易年月日'].apply(lambda x: int(x)/100).astype('int') \n",
    "data_taipei = data_taipei[(data_taipei['交易年月日']==11304) & (data_taipei['都市土地使用分區']=='住')]\n",
    "\n",
    "#建立篩選後的資料集 analysis_taipei\n",
    "column_names = ['鄉鎮市區', '交易年月', '每坪單價', '總價']\n",
    "analysis_taipei = pd.DataFrame(columns=column_names)\n",
    "# 在資料最前面插入縣市\n",
    "analysis_taipei['鄉鎮市區'] = data_taipei['鄉鎮市區']\n",
    "analysis_taipei['交易年月'] =  data_taipei['交易年月日']\n",
    "analysis_taipei['每坪單價'] = data_taipei['單價元平方公尺'].fillna(0).astype('int')/0.3025\n",
    "analysis_taipei['總價'] = data_taipei['總價元'].astype('int')\n",
    "analysis_taipei.insert(0,'縣市',\"台北市\")\n",
    "analysis_taipei = analysis_taipei.reset_index(drop=True)"
   ]
  },
  {
   "cell_type": "markdown",
   "id": "d36a2bcf-f105-4d44-9678-15b02fe79240",
   "metadata": {},
   "source": [
    "### 新北"
   ]
  },
  {
   "cell_type": "code",
   "execution_count": 6,
   "id": "15de08b1-a117-4d28-b7d2-4de2a4d9c69b",
   "metadata": {},
   "outputs": [],
   "source": [
    "data_newtaipei['交易年月日'] = data_newtaipei['交易年月日'].astype('int') \n",
    "data_newtaipei['交易年月日'] = data_newtaipei['交易年月日'].apply(lambda x: int(x)/100).astype('int') \n",
    "data_newtaipei = data_newtaipei[(data_newtaipei['交易年月日']==11304) & (data_newtaipei['都市土地使用分區']=='住')]\n",
    "\n",
    "#建立篩選後的資料集 analysis_taipei\n",
    "column_names = ['鄉鎮市區', '交易年月', '每坪單價', '總價']\n",
    "analysis_newtaipei = pd.DataFrame(columns=column_names)\n",
    "# 在資料最前面插入縣市\n",
    "analysis_newtaipei['鄉鎮市區'] = data_newtaipei['鄉鎮市區']\n",
    "analysis_newtaipei['交易年月'] =  data_newtaipei['交易年月日']\n",
    "analysis_newtaipei['每坪單價'] = data_newtaipei['單價元平方公尺'].fillna(0).astype('int')/0.3025\n",
    "analysis_newtaipei['總價'] = data_newtaipei['總價元'].astype('int')\n",
    "analysis_newtaipei.insert(0,'縣市',\"新北市\")\n",
    "analysis_newtaipei = analysis_newtaipei.reset_index(drop=True)"
   ]
  },
  {
   "cell_type": "markdown",
   "id": "72cfea57-a299-4d05-951a-258feab93b00",
   "metadata": {},
   "source": [
    "### 新竹"
   ]
  },
  {
   "cell_type": "code",
   "execution_count": 7,
   "id": "3e68613b-fffb-4ca1-aa22-c62305ce5d23",
   "metadata": {},
   "outputs": [],
   "source": [
    "data_hsinchu['交易年月日'] = data_hsinchu['交易年月日'].astype('int') \n",
    "data_hsinchu['交易年月日'] = data_hsinchu['交易年月日'].apply(lambda x: int(x)/100).astype('int') \n",
    "data_hsinchu = data_hsinchu[(data_hsinchu['交易年月日']==11304) & (data_hsinchu['都市土地使用分區']=='住')]\n",
    "\n",
    "#建立篩選後的資料集 analysis_taipei\n",
    "column_names = ['鄉鎮市區', '交易年月', '每坪單價', '總價']\n",
    "analysis_hsinchu = pd.DataFrame(columns=column_names)\n",
    "# 在資料最前面插入縣市\n",
    "analysis_hsinchu['鄉鎮市區'] = data_hsinchu['鄉鎮市區']\n",
    "analysis_hsinchu['交易年月'] =  data_hsinchu['交易年月日']\n",
    "analysis_hsinchu['每坪單價'] = data_hsinchu['單價元平方公尺'].fillna(0).astype('int')/0.3025\n",
    "analysis_hsinchu['總價'] = data_hsinchu['總價元'].astype('int')\n",
    "analysis_hsinchu.insert(0,'縣市',\"新竹市\")\n",
    "analysis_hsinchu = analysis_hsinchu.reset_index(drop=True)"
   ]
  },
  {
   "cell_type": "markdown",
   "id": "1d18de5d-c2bb-4742-b4fa-9a45d31bee68",
   "metadata": {},
   "source": [
    "### 台中"
   ]
  },
  {
   "cell_type": "code",
   "execution_count": 8,
   "id": "2ed08f70-f175-444f-96a1-20578385ba3c",
   "metadata": {},
   "outputs": [],
   "source": [
    "data_taichung['交易年月日'] = data_taichung['交易年月日'].astype('int') \n",
    "data_taichung['交易年月日'] = data_taichung['交易年月日'].apply(lambda x: int(x)/100).astype('int') \n",
    "data_taichung = data_taichung[(data_taichung['交易年月日']==11304) & (data_taichung['都市土地使用分區']=='住')]\n",
    "\n",
    "#建立篩選後的資料集 analysis_taipei\n",
    "column_names = ['鄉鎮市區', '交易年月', '每坪單價', '總價']\n",
    "analysis_taichung = pd.DataFrame(columns=column_names)\n",
    "# 在資料最前面插入縣市\n",
    "analysis_taichung['鄉鎮市區'] = data_taichung['鄉鎮市區']\n",
    "analysis_taichung['交易年月'] =  data_taichung['交易年月日']\n",
    "analysis_taichung['每坪單價'] = data_taichung['單價元平方公尺'].fillna(0).astype('int')/0.3025\n",
    "analysis_taichung['總價'] = data_taichung['總價元'].astype('int')\n",
    "analysis_taichung.insert(0,'縣市',\"台中市\")\n",
    "analysis_taichung = analysis_taichung.reset_index(drop=True)"
   ]
  },
  {
   "cell_type": "code",
   "execution_count": 9,
   "id": "c45bfb70-9569-48b3-8173-2be5163cf2c4",
   "metadata": {},
   "outputs": [
    {
     "data": {
      "text/html": [
       "<div>\n",
       "<style scoped>\n",
       "    .dataframe tbody tr th:only-of-type {\n",
       "        vertical-align: middle;\n",
       "    }\n",
       "\n",
       "    .dataframe tbody tr th {\n",
       "        vertical-align: top;\n",
       "    }\n",
       "\n",
       "    .dataframe thead th {\n",
       "        text-align: right;\n",
       "    }\n",
       "</style>\n",
       "<table border=\"1\" class=\"dataframe\">\n",
       "  <thead>\n",
       "    <tr style=\"text-align: right;\">\n",
       "      <th></th>\n",
       "      <th>縣市</th>\n",
       "      <th>鄉鎮市區</th>\n",
       "      <th>交易年月</th>\n",
       "      <th>每坪單價</th>\n",
       "      <th>總價</th>\n",
       "    </tr>\n",
       "  </thead>\n",
       "  <tbody>\n",
       "    <tr>\n",
       "      <th>0</th>\n",
       "      <td>台中市</td>\n",
       "      <td>西屯區</td>\n",
       "      <td>11304</td>\n",
       "      <td>259656.198347</td>\n",
       "      <td>18800000</td>\n",
       "    </tr>\n",
       "    <tr>\n",
       "      <th>1</th>\n",
       "      <td>台中市</td>\n",
       "      <td>西屯區</td>\n",
       "      <td>11304</td>\n",
       "      <td>279110.743802</td>\n",
       "      <td>15000000</td>\n",
       "    </tr>\n",
       "    <tr>\n",
       "      <th>2</th>\n",
       "      <td>台中市</td>\n",
       "      <td>西屯區</td>\n",
       "      <td>11304</td>\n",
       "      <td>346042.975207</td>\n",
       "      <td>4900000</td>\n",
       "    </tr>\n",
       "    <tr>\n",
       "      <th>3</th>\n",
       "      <td>台中市</td>\n",
       "      <td>西屯區</td>\n",
       "      <td>11304</td>\n",
       "      <td>234700.826446</td>\n",
       "      <td>13500000</td>\n",
       "    </tr>\n",
       "    <tr>\n",
       "      <th>4</th>\n",
       "      <td>台中市</td>\n",
       "      <td>西屯區</td>\n",
       "      <td>11304</td>\n",
       "      <td>247775.206612</td>\n",
       "      <td>16000000</td>\n",
       "    </tr>\n",
       "    <tr>\n",
       "      <th>...</th>\n",
       "      <td>...</td>\n",
       "      <td>...</td>\n",
       "      <td>...</td>\n",
       "      <td>...</td>\n",
       "      <td>...</td>\n",
       "    </tr>\n",
       "    <tr>\n",
       "      <th>253</th>\n",
       "      <td>台中市</td>\n",
       "      <td>太平區</td>\n",
       "      <td>11304</td>\n",
       "      <td>339216.528926</td>\n",
       "      <td>12800000</td>\n",
       "    </tr>\n",
       "    <tr>\n",
       "      <th>254</th>\n",
       "      <td>台中市</td>\n",
       "      <td>太平區</td>\n",
       "      <td>11304</td>\n",
       "      <td>150251.239669</td>\n",
       "      <td>12380000</td>\n",
       "    </tr>\n",
       "    <tr>\n",
       "      <th>255</th>\n",
       "      <td>台中市</td>\n",
       "      <td>大雅區</td>\n",
       "      <td>11304</td>\n",
       "      <td>45844.628099</td>\n",
       "      <td>1500000</td>\n",
       "    </tr>\n",
       "    <tr>\n",
       "      <th>256</th>\n",
       "      <td>台中市</td>\n",
       "      <td>太平區</td>\n",
       "      <td>11304</td>\n",
       "      <td>402337.190083</td>\n",
       "      <td>17000000</td>\n",
       "    </tr>\n",
       "    <tr>\n",
       "      <th>257</th>\n",
       "      <td>台中市</td>\n",
       "      <td>太平區</td>\n",
       "      <td>11304</td>\n",
       "      <td>234895.867769</td>\n",
       "      <td>6000000</td>\n",
       "    </tr>\n",
       "  </tbody>\n",
       "</table>\n",
       "<p>258 rows × 5 columns</p>\n",
       "</div>"
      ],
      "text/plain": [
       "      縣市 鄉鎮市區   交易年月           每坪單價        總價\n",
       "0    台中市  西屯區  11304  259656.198347  18800000\n",
       "1    台中市  西屯區  11304  279110.743802  15000000\n",
       "2    台中市  西屯區  11304  346042.975207   4900000\n",
       "3    台中市  西屯區  11304  234700.826446  13500000\n",
       "4    台中市  西屯區  11304  247775.206612  16000000\n",
       "..   ...  ...    ...            ...       ...\n",
       "253  台中市  太平區  11304  339216.528926  12800000\n",
       "254  台中市  太平區  11304  150251.239669  12380000\n",
       "255  台中市  大雅區  11304   45844.628099   1500000\n",
       "256  台中市  太平區  11304  402337.190083  17000000\n",
       "257  台中市  太平區  11304  234895.867769   6000000\n",
       "\n",
       "[258 rows x 5 columns]"
      ]
     },
     "execution_count": 9,
     "metadata": {},
     "output_type": "execute_result"
    }
   ],
   "source": [
    "analysis_taichung"
   ]
  },
  {
   "cell_type": "markdown",
   "id": "78e49ab4-1074-4e3c-bab0-7d2ba33a1cce",
   "metadata": {},
   "source": [
    "## 找平均"
   ]
  },
  {
   "cell_type": "code",
   "execution_count": 10,
   "id": "10c0b8be-394c-46b0-8598-8217f3176785",
   "metadata": {},
   "outputs": [],
   "source": [
    "bar_chart_mean = []\n",
    "bar_chart_mean.append(analysis_taipei['每坪單價'].mean())\n",
    "bar_chart_mean.append(analysis_newtaipei['每坪單價'].mean())\n",
    "bar_chart_mean.append(analysis_hsinchu['每坪單價'].mean())\n",
    "bar_chart_mean.append(analysis_taichung['每坪單價'].mean())\n"
   ]
  },
  {
   "cell_type": "markdown",
   "id": "7539d0a2-00f1-487c-af59-d30a720eae0f",
   "metadata": {},
   "source": [
    "## 畫長條圖"
   ]
  },
  {
   "cell_type": "code",
   "execution_count": 15,
   "id": "f8b44723-66dd-4be3-8863-a6ee90081654",
   "metadata": {},
   "outputs": [
    {
     "data": {
      "image/png": "[encoded data removed]",
      "text/plain": [
       "<Figure size 640x480 with 1 Axes>"
      ]
     },
     "metadata": {},
     "output_type": "display_data"
    }
   ],
   "source": [
    "import matplotlib.pyplot as plt\n",
    "from pylab import *\n",
    "mpl.rcParams['font.sans-serif'] = ['Microsoft JhengHei']\n",
    "\n",
    "x = ['台北市','新北','新竹','台中']\n",
    "plt.bar(x, bar_chart_mean)\n",
    "\n",
    "# 添加標題和標籤\n",
    "plt.title('台北新北新竹台中四地四月每坪成交價分析')\n",
    "plt.xlabel('地區')\n",
    "plt.ylabel('平均價')\n",
    "\n",
    "# 顯示圖形\n",
    "plt.show()"
   ]
  },
  {
   "cell_type": "code",
   "execution_count": null,
   "id": "21ce80a4-5302-4958-9289-cb71f0fc4a97",
   "metadata": {},
   "outputs": [],
   "source": []
  }
 ],
 "metadata": {
  "kernelspec": {
   "display_name": "Python 3 (ipykernel)",
   "language": "python",
   "name": "python3"
  },
  "language_info": {
   "codemirror_mode": {
    "name": "ipython",
    "version": 3
   },
   "file_extension": ".py",
   "mimetype": "text/x-python",
   "name": "python",
   "nbconvert_exporter": "python",
   "pygments_lexer": "ipython3",
   "version": "3.8.19"
  }
 },
 "nbformat": 4,
 "nbformat_minor": 5
}
