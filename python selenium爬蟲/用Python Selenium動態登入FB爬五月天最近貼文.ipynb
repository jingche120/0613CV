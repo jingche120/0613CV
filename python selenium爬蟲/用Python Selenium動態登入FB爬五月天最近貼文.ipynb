{
 "cells": [
  {
   "cell_type": "code",
   "execution_count": 1,
   "id": "8ced2964-4998-47bf-9403-083c7e7341c3",
   "metadata": {},
   "outputs": [
    {
     "name": "stdout",
     "output_type": "stream",
     "text": [
      "Requirement already satisfied: selenium in c:\\users\\sinon\\anaconda3\\lib\\site-packages (4.1.0)Note: you may need to restart the kernel to use updated packages.\n",
      "\n",
      "Requirement already satisfied: beautifulsoup4 in c:\\users\\sinon\\anaconda3\\lib\\site-packages (4.12.2)\n",
      "Requirement already satisfied: urllib3~=1.26 in c:\\users\\sinon\\anaconda3\\lib\\site-packages (from urllib3[secure]~=1.26->selenium) (1.26.18)\n",
      "Requirement already satisfied: trio~=0.17 in c:\\users\\sinon\\anaconda3\\lib\\site-packages (from selenium) (0.19.0)\n",
      "Requirement already satisfied: trio-websocket~=0.9 in c:\\users\\sinon\\anaconda3\\lib\\site-packages (from selenium) (0.9.2)\n",
      "Requirement already satisfied: soupsieve>1.2 in c:\\users\\sinon\\anaconda3\\lib\\site-packages (from beautifulsoup4) (2.5)\n",
      "Requirement already satisfied: attrs>=19.2.0 in c:\\users\\sinon\\anaconda3\\lib\\site-packages (from trio~=0.17->selenium) (23.1.0)\n",
      "Requirement already satisfied: sortedcontainers in c:\\users\\sinon\\anaconda3\\lib\\site-packages (from trio~=0.17->selenium) (2.4.0)\n",
      "Requirement already satisfied: async-generator>=1.9 in c:\\users\\sinon\\anaconda3\\lib\\site-packages (from trio~=0.17->selenium) (1.10)\n",
      "Requirement already satisfied: idna in c:\\users\\sinon\\anaconda3\\lib\\site-packages (from trio~=0.17->selenium) (3.7)\n",
      "Requirement already satisfied: outcome in c:\\users\\sinon\\anaconda3\\lib\\site-packages (from trio~=0.17->selenium) (1.1.0)\n",
      "Requirement already satisfied: sniffio in c:\\users\\sinon\\anaconda3\\lib\\site-packages (from trio~=0.17->selenium) (1.3.0)\n",
      "Requirement already satisfied: cffi>=1.14 in c:\\users\\sinon\\anaconda3\\lib\\site-packages (from trio~=0.17->selenium) (1.16.0)\n",
      "Requirement already satisfied: wsproto>=0.14 in c:\\users\\sinon\\anaconda3\\lib\\site-packages (from trio-websocket~=0.9->selenium) (1.0.0)\n",
      "Requirement already satisfied: pyOpenSSL>=0.14 in c:\\users\\sinon\\anaconda3\\lib\\site-packages (from urllib3[secure]~=1.26->selenium) (24.0.0)\n",
      "Requirement already satisfied: cryptography>=1.3.4 in c:\\users\\sinon\\anaconda3\\lib\\site-packages (from urllib3[secure]~=1.26->selenium) (42.0.5)\n",
      "Requirement already satisfied: certifi in c:\\users\\sinon\\anaconda3\\lib\\site-packages (from urllib3[secure]~=1.26->selenium) (2024.6.2)\n",
      "Requirement already satisfied: urllib3-secure-extra in c:\\users\\sinon\\anaconda3\\lib\\site-packages (from urllib3[secure]~=1.26->selenium) (0.1.0)\n",
      "Requirement already satisfied: pycparser in c:\\users\\sinon\\anaconda3\\lib\\site-packages (from cffi>=1.14->trio~=0.17->selenium) (2.21)\n",
      "Requirement already satisfied: h11<1,>=0.9.0 in c:\\users\\sinon\\anaconda3\\lib\\site-packages (from wsproto>=0.14->trio-websocket~=0.9->selenium) (0.12.0)\n"
     ]
    }
   ],
   "source": [
    "pip install selenium beautifulsoup4"
   ]
  },
  {
   "cell_type": "markdown",
   "id": "a86fb8e6-48ac-498e-b935-307f087cf695",
   "metadata": {},
   "source": [
    "## 參數設定"
   ]
  },
  {
   "cell_type": "code",
   "execution_count": 2,
   "id": "4572d904-3bcd-40f1-a04c-c58ddc7648bf",
   "metadata": {},
   "outputs": [],
   "source": [
    "class Config:\n",
    "    def __init__(self):\n",
    "        self.url = 'https://www.facebook.com/'\n",
    "        self.email = 'xxxxx@gmail.com'\n",
    "        self.pwd = 'xxxxxx'\n",
    "        self.wait_time = 5\n",
    "        self.path = '五月天最近貼文.txt'\n",
    "\n",
    "config = Config()"
   ]
  },
  {
   "cell_type": "markdown",
   "id": "a80f8db1-1334-44f1-aeb7-f48f65a6cae3",
   "metadata": {},
   "source": [
    "# 爬內容"
   ]
  },
  {
   "cell_type": "code",
   "execution_count": 3,
   "id": "8c7660fb-7675-4de5-b147-387273dfdb8a",
   "metadata": {},
   "outputs": [
    {
     "name": "stderr",
     "output_type": "stream",
     "text": [
      "C:\\Users\\sinon\\AppData\\Local\\Temp\\ipykernel_10364\\37680344.py:12: DeprecationWarning: executable_path has been deprecated, please pass in a Service object\n",
      "  driver = webdriver.Chrome('./chromedriver',options=chrome_options)\n"
     ]
    }
   ],
   "source": [
    "from selenium import webdriver\n",
    "from selenium.webdriver.chrome.options import Options\n",
    "# By用來定位元素\n",
    "from selenium.webdriver.common.by import By\n",
    "from bs4 import BeautifulSoup\n",
    "import time\n",
    "\n",
    "# 此處的瀏覽器設定就是不要有彈出視窗\n",
    "chrome_options = Options()\n",
    "chrome_options.add_argument(\"--disable-notifications\")\n",
    "#傳入剛剛所下載的「瀏覽器驅動程式路徑」及「瀏覽器設定(chrome_options)」\n",
    "driver = webdriver.Chrome('./chromedriver',options=chrome_options)\n",
    "# # 連入FB，並登入我的帳號\n",
    "driver.get('https://www.facebook.com/')\n",
    "#ID唯一\n",
    "email = driver.find_element(By.ID, \"email\")\n",
    "password = driver.find_element(By.ID, \"pass\")\n",
    "login = driver.find_element(By.NAME, \"login\")\n",
    "#輸入email 和密碼\n",
    "email.send_keys(config.email)\n",
    "password.send_keys(config.pwd)\n",
    "login.click()\n",
    "time.sleep(config.wait_time)\n",
    "#登入成功\n",
    "\n",
    "driver.get('https://www.facebook.com/imayday555')\n",
    "time.sleep(5)\n",
    "#執行滾動捲軸3次，讀入更多文章\n",
    "for x in range(1, 2):\n",
    "    driver.execute_script(\"window.scrollTo(0,document.body.scrollHeight)\")\n",
    "    time.sleep(5)\n",
    "    soup = BeautifulSoup(driver.page_source, 'html.parser')\n",
    "\n",
    "unprocessedDatas = soup.find_all('div', {\n",
    "    'class':'x1iorvi4 x1pi30zi x1l90r2v x1swvt13'\n",
    "})\n",
    "title = []\n",
    "for unprocessedData in unprocessedDatas: \n",
    "    post = unprocessedData.find('span', {'dir': 'auto'})\n",
    "    if post:\n",
    "        title.append(post.getText())\n",
    "driver.quit()   "
   ]
  },
  {
   "cell_type": "markdown",
   "id": "f823d009-e40d-48a3-86fd-3ff47abc1cd3",
   "metadata": {},
   "source": [
    "# 寫入文檔"
   ]
  },
  {
   "cell_type": "code",
   "execution_count": 4,
   "id": "a86e3455-aff2-4eda-9012-9ad90b5d3641",
   "metadata": {},
   "outputs": [],
   "source": [
    "#第n篇文章\n",
    "n = 1\n",
    "for i in title:\n",
    "    i = i.split(\"…… 查看更多\")[0]    \n",
    "    with open(config.path,'a',encoding='utf-8') as f:\n",
    "        f.write(f'第{n}篇文章:\\n')\n",
    "        f.write(f'{i}\\n')\n",
    "    n = n+1\n",
    "\n"
   ]
  }
 ],
 "metadata": {
  "kernelspec": {
   "display_name": "Python 3 (ipykernel)",
   "language": "python",
   "name": "python3"
  },
  "language_info": {
   "codemirror_mode": {
    "name": "ipython",
    "version": 3
   },
   "file_extension": ".py",
   "mimetype": "text/x-python",
   "name": "python",
   "nbconvert_exporter": "python",
   "pygments_lexer": "ipython3",
   "version": "3.8.19"
  }
 },
 "nbformat": 4,
 "nbformat_minor": 5
}
